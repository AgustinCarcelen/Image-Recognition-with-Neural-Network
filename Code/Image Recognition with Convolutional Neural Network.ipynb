{
 "cells": [
  {
   "cell_type": "markdown",
   "id": "e86051a3",
   "metadata": {},
   "source": [
    "# Image Recognition with CNN"
   ]
  },
  {
   "cell_type": "markdown",
   "id": "7c914dbe",
   "metadata": {},
   "source": [
    "- In this study we will apply convolutional neural networks to recognize the images of handwritten numbers. \n",
    "- We will use the Mnist database from the Keras library that has a training set of 60,000 examples, and a test set of 10,000 examples.\n",
    "- The images are centered and have 28x28 pixels in size and each has a value between 0 and 255, where 0 means background (white), 255 means foreground (black).\n",
    "- The data is stored in a format designed for storing vectors and multidimensional matrices."
   ]
  },
  {
   "cell_type": "markdown",
   "id": "7c2a5980",
   "metadata": {},
   "source": [
    "## Imports"
   ]
  },
  {
   "cell_type": "code",
   "execution_count": 1,
   "id": "01c95019",
   "metadata": {},
   "outputs": [],
   "source": [
    "# Advanced mathematical functions\n",
    "import numpy as np\n",
    "\n",
    "# To make plots\n",
    "import matplotlib.pyplot as plt\n",
    "\n",
    "# To get darabase\n",
    "from keras.datasets import mnist\n",
    "# To change output data\n",
    "from keras.utils import to_categorical\n",
    "# To create a model with keras\n",
    "from keras.models import Sequential\n",
    "# To configure convolutional layers\n",
    "from keras.layers import Conv2D\n",
    "# To configure grouping layers\n",
    "from keras.layers import MaxPooling2D\n",
    "# To prepare data before hidden layers\n",
    "from keras.layers import Flatten\n",
    "# To configure Dropout layers\n",
    "from keras.layers import Dropout\n",
    "# To configure hidden layers\n",
    "from keras.layers import Dense"
   ]
  },
  {
   "cell_type": "markdown",
   "id": "8b39dd48",
   "metadata": {},
   "source": [
    "# Explore Data"
   ]
  },
  {
   "cell_type": "code",
   "execution_count": 2,
   "id": "1a528a40",
   "metadata": {},
   "outputs": [],
   "source": [
    "# With the Keras mnist function we can split our data for training and validation\n",
    "(x_train, y_train), (x_test, y_test) = mnist.load_data()"
   ]
  },
  {
   "cell_type": "code",
   "execution_count": 3,
   "id": "b0911a42",
   "metadata": {},
   "outputs": [
    {
     "name": "stdout",
     "output_type": "stream",
     "text": [
      "<class 'numpy.ndarray'> <class 'numpy.ndarray'> <class 'numpy.ndarray'> <class 'numpy.ndarray'>\n"
     ]
    }
   ],
   "source": [
    "# Now we have 4 arrays with the data splitted\n",
    "print(type(x_train),type(y_train),type(x_test),type(y_test))"
   ]
  },
  {
   "cell_type": "code",
   "execution_count": 4,
   "id": "e3716fc2",
   "metadata": {},
   "outputs": [
    {
     "name": "stdout",
     "output_type": "stream",
     "text": [
      "x_train: (60000, 28, 28)    x_test: (10000, 28, 28)\n"
     ]
    }
   ],
   "source": [
    "# x_... is an array with 3 position.\n",
    "# The first dimension indexes images\n",
    "# The next two dimensions correspond to the pixels information in each image.\n",
    "print('x_train:',x_train.shape,'   x_test:',x_test.shape)"
   ]
  },
  {
   "cell_type": "code",
   "execution_count": 5,
   "id": "5e519133",
   "metadata": {},
   "outputs": [
    {
     "name": "stdout",
     "output_type": "stream",
     "text": [
      "y_train: (60000,)    y_test: (10000,)\n"
     ]
    }
   ],
   "source": [
    "# y_... contains the real number\n",
    "print('y_train:',y_train.shape,'   y_test:',y_test.shape)"
   ]
  },
  {
   "cell_type": "code",
   "execution_count": 6,
   "id": "52502d33",
   "metadata": {},
   "outputs": [
    {
     "data": {
      "text/plain": [
       "array([[  0,   0,   0,   0,   0,   0,   0,   0,   0,   0,   0,   0,   0,\n",
       "          0,   0,   0,   0,   0,   0,   0,   0,   0,   0,   0,   0,   0,\n",
       "          0,   0],\n",
       "       [  0,   0,   0,   0,   0,   0,   0,   0,   0,   0,   0,   0,   0,\n",
       "          0,   0,   0,   0,   0,   0,   0,   0,   0,   0,   0,   0,   0,\n",
       "          0,   0],\n",
       "       [  0,   0,   0,   0,   0,   0,   0,   0,   0,   0,   0,   0,   0,\n",
       "          0,   0,   0,   0,   0,   0,   0,   0,   0,   0,   0,   0,   0,\n",
       "          0,   0],\n",
       "       [  0,   0,   0,   0,   0,   0,   0,   0,   0,   0,   0,   0,   0,\n",
       "          0,   0,   0,   0,   0,   0,   0,   0,   0,   0,   0,   0,   0,\n",
       "          0,   0],\n",
       "       [  0,   0,   0,   0,   0,   0,   0,   0,   0,   0,   0,   0,   0,\n",
       "          0,   0,   0,   0,   0,   0,   0,   0,   0,   0,   0,   0,   0,\n",
       "          0,   0],\n",
       "       [  0,   0,   0,   0,   0,   0,   0,   0,   0,   0,   0,   0,   3,\n",
       "         18,  18,  18, 126, 136, 175,  26, 166, 255, 247, 127,   0,   0,\n",
       "          0,   0],\n",
       "       [  0,   0,   0,   0,   0,   0,   0,   0,  30,  36,  94, 154, 170,\n",
       "        253, 253, 253, 253, 253, 225, 172, 253, 242, 195,  64,   0,   0,\n",
       "          0,   0],\n",
       "       [  0,   0,   0,   0,   0,   0,   0,  49, 238, 253, 253, 253, 253,\n",
       "        253, 253, 253, 253, 251,  93,  82,  82,  56,  39,   0,   0,   0,\n",
       "          0,   0],\n",
       "       [  0,   0,   0,   0,   0,   0,   0,  18, 219, 253, 253, 253, 253,\n",
       "        253, 198, 182, 247, 241,   0,   0,   0,   0,   0,   0,   0,   0,\n",
       "          0,   0],\n",
       "       [  0,   0,   0,   0,   0,   0,   0,   0,  80, 156, 107, 253, 253,\n",
       "        205,  11,   0,  43, 154,   0,   0,   0,   0,   0,   0,   0,   0,\n",
       "          0,   0],\n",
       "       [  0,   0,   0,   0,   0,   0,   0,   0,   0,  14,   1, 154, 253,\n",
       "         90,   0,   0,   0,   0,   0,   0,   0,   0,   0,   0,   0,   0,\n",
       "          0,   0],\n",
       "       [  0,   0,   0,   0,   0,   0,   0,   0,   0,   0,   0, 139, 253,\n",
       "        190,   2,   0,   0,   0,   0,   0,   0,   0,   0,   0,   0,   0,\n",
       "          0,   0],\n",
       "       [  0,   0,   0,   0,   0,   0,   0,   0,   0,   0,   0,  11, 190,\n",
       "        253,  70,   0,   0,   0,   0,   0,   0,   0,   0,   0,   0,   0,\n",
       "          0,   0],\n",
       "       [  0,   0,   0,   0,   0,   0,   0,   0,   0,   0,   0,   0,  35,\n",
       "        241, 225, 160, 108,   1,   0,   0,   0,   0,   0,   0,   0,   0,\n",
       "          0,   0],\n",
       "       [  0,   0,   0,   0,   0,   0,   0,   0,   0,   0,   0,   0,   0,\n",
       "         81, 240, 253, 253, 119,  25,   0,   0,   0,   0,   0,   0,   0,\n",
       "          0,   0],\n",
       "       [  0,   0,   0,   0,   0,   0,   0,   0,   0,   0,   0,   0,   0,\n",
       "          0,  45, 186, 253, 253, 150,  27,   0,   0,   0,   0,   0,   0,\n",
       "          0,   0],\n",
       "       [  0,   0,   0,   0,   0,   0,   0,   0,   0,   0,   0,   0,   0,\n",
       "          0,   0,  16,  93, 252, 253, 187,   0,   0,   0,   0,   0,   0,\n",
       "          0,   0],\n",
       "       [  0,   0,   0,   0,   0,   0,   0,   0,   0,   0,   0,   0,   0,\n",
       "          0,   0,   0,   0, 249, 253, 249,  64,   0,   0,   0,   0,   0,\n",
       "          0,   0],\n",
       "       [  0,   0,   0,   0,   0,   0,   0,   0,   0,   0,   0,   0,   0,\n",
       "          0,  46, 130, 183, 253, 253, 207,   2,   0,   0,   0,   0,   0,\n",
       "          0,   0],\n",
       "       [  0,   0,   0,   0,   0,   0,   0,   0,   0,   0,   0,   0,  39,\n",
       "        148, 229, 253, 253, 253, 250, 182,   0,   0,   0,   0,   0,   0,\n",
       "          0,   0],\n",
       "       [  0,   0,   0,   0,   0,   0,   0,   0,   0,   0,  24, 114, 221,\n",
       "        253, 253, 253, 253, 201,  78,   0,   0,   0,   0,   0,   0,   0,\n",
       "          0,   0],\n",
       "       [  0,   0,   0,   0,   0,   0,   0,   0,  23,  66, 213, 253, 253,\n",
       "        253, 253, 198,  81,   2,   0,   0,   0,   0,   0,   0,   0,   0,\n",
       "          0,   0],\n",
       "       [  0,   0,   0,   0,   0,   0,  18, 171, 219, 253, 253, 253, 253,\n",
       "        195,  80,   9,   0,   0,   0,   0,   0,   0,   0,   0,   0,   0,\n",
       "          0,   0],\n",
       "       [  0,   0,   0,   0,  55, 172, 226, 253, 253, 253, 253, 244, 133,\n",
       "         11,   0,   0,   0,   0,   0,   0,   0,   0,   0,   0,   0,   0,\n",
       "          0,   0],\n",
       "       [  0,   0,   0,   0, 136, 253, 253, 253, 212, 135, 132,  16,   0,\n",
       "          0,   0,   0,   0,   0,   0,   0,   0,   0,   0,   0,   0,   0,\n",
       "          0,   0],\n",
       "       [  0,   0,   0,   0,   0,   0,   0,   0,   0,   0,   0,   0,   0,\n",
       "          0,   0,   0,   0,   0,   0,   0,   0,   0,   0,   0,   0,   0,\n",
       "          0,   0],\n",
       "       [  0,   0,   0,   0,   0,   0,   0,   0,   0,   0,   0,   0,   0,\n",
       "          0,   0,   0,   0,   0,   0,   0,   0,   0,   0,   0,   0,   0,\n",
       "          0,   0],\n",
       "       [  0,   0,   0,   0,   0,   0,   0,   0,   0,   0,   0,   0,   0,\n",
       "          0,   0,   0,   0,   0,   0,   0,   0,   0,   0,   0,   0,   0,\n",
       "          0,   0]], dtype=uint8)"
      ]
     },
     "execution_count": 6,
     "metadata": {},
     "output_type": "execute_result"
    }
   ],
   "source": [
    "# Here we can see the first number with an array of 28x28\n",
    "x_train[0]"
   ]
  },
  {
   "cell_type": "code",
   "execution_count": 7,
   "id": "11fa00fb",
   "metadata": {},
   "outputs": [
    {
     "data": {
      "text/plain": [
       "5"
      ]
     },
     "execution_count": 7,
     "metadata": {},
     "output_type": "execute_result"
    }
   ],
   "source": [
    "# Here we can see the first real number\n",
    "y_train[0]"
   ]
  },
  {
   "cell_type": "code",
   "execution_count": 8,
   "id": "ed528d40",
   "metadata": {},
   "outputs": [
    {
     "data": {
      "text/plain": [
       "(-0.5, 27.5, 27.5, -0.5)"
      ]
     },
     "execution_count": 8,
     "metadata": {},
     "output_type": "execute_result"
    },
    {
     "data": {
      "image/png": "[encoded data removed]",
      "text/plain": [
       "<Figure size 432x288 with 1 Axes>"
      ]
     },
     "metadata": {
      "needs_background": "light"
     },
     "output_type": "display_data"
    }
   ],
   "source": [
    "# Now let's try to display the image\n",
    "# The function -imshow- display 2D scalar data as an image\n",
    "plt.imshow(x_train[0])\n",
    "plt.title(y_train[0])\n",
    "# No need to display coordinates\n",
    "plt.axis('off')"
   ]
  },
  {
   "cell_type": "code",
   "execution_count": 9,
   "id": "9ee38d9d",
   "metadata": {},
   "outputs": [
    {
     "data": {
      "text/plain": [
       "(array([[28.,  0.,  0.,  0.,  0.,  0.,  0.,  0.,  0.,  0.],\n",
       "        [28.,  0.,  0.,  0.,  0.,  0.,  0.,  0.,  0.,  0.],\n",
       "        [28.,  0.,  0.,  0.,  0.,  0.,  0.,  0.,  0.,  0.],\n",
       "        [28.,  0.,  0.,  0.,  0.,  0.,  0.,  0.,  0.,  0.],\n",
       "        [26.,  0.,  1.,  0.,  0.,  1.,  0.,  0.,  0.,  0.],\n",
       "        [26.,  0.,  0.,  0.,  0.,  0.,  1.,  0.,  0.,  1.],\n",
       "        [26.,  0.,  0.,  0.,  0.,  0.,  0.,  0.,  1.,  1.],\n",
       "        [24.,  1.,  0.,  0.,  0.,  0.,  1.,  0.,  0.,  2.],\n",
       "        [21.,  1.,  0.,  1.,  0.,  0.,  0.,  0.,  3.,  2.],\n",
       "        [20.,  1.,  1.,  0.,  0.,  1.,  1.,  0.,  0.,  4.],\n",
       "        [20.,  0.,  0.,  1.,  1.,  1.,  0.,  0.,  1.,  4.],\n",
       "        [18.,  0.,  0.,  0.,  1.,  1.,  2.,  0.,  0.,  6.],\n",
       "        [15.,  2.,  0.,  0.,  0.,  1.,  1.,  1.,  1.,  7.],\n",
       "        [15.,  0.,  0.,  2.,  0.,  1.,  0.,  2.,  1.,  7.],\n",
       "        [16.,  2.,  1.,  1.,  0.,  0.,  0.,  1.,  2.,  5.],\n",
       "        [18.,  0.,  0.,  0.,  0.,  1.,  1.,  3.,  0.,  5.],\n",
       "        [15.,  1.,  0.,  2.,  2.,  0.,  0.,  1.,  0.,  7.],\n",
       "        [16.,  0.,  0.,  0.,  1.,  1.,  1.,  1.,  0.,  8.],\n",
       "        [19.,  0.,  0.,  2.,  0.,  1.,  1.,  0.,  1.,  4.],\n",
       "        [20.,  2.,  0.,  1.,  0.,  0.,  1.,  2.,  1.,  1.],\n",
       "        [24.,  0.,  1.,  1.,  0.,  0.,  1.,  0.,  0.,  1.],\n",
       "        [25.,  0.,  1.,  0.,  0.,  0.,  0.,  0.,  0.,  2.],\n",
       "        [25.,  1.,  0.,  0.,  0.,  0.,  0.,  1.,  0.,  1.],\n",
       "        [26.,  0.,  1.,  0.,  1.,  0.,  0.,  0.,  0.,  0.],\n",
       "        [28.,  0.,  0.,  0.,  0.,  0.,  0.,  0.,  0.,  0.],\n",
       "        [28.,  0.,  0.,  0.,  0.,  0.,  0.,  0.,  0.,  0.],\n",
       "        [28.,  0.,  0.,  0.,  0.,  0.,  0.,  0.,  0.,  0.],\n",
       "        [28.,  0.,  0.,  0.,  0.,  0.,  0.,  0.,  0.,  0.]]),\n",
       " array([  0. ,  25.5,  51. ,  76.5, 102. , 127.5, 153. , 178.5, 204. ,\n",
       "        229.5, 255. ]),\n",
       " <a list of 28 BarContainer objects>)"
      ]
     },
     "execution_count": 9,
     "metadata": {},
     "output_type": "execute_result"
    },
    {
     "data": {
      "image/png": "[encoded data removed]",
      "text/plain": [
       "<Figure size 432x288 with 1 Axes>"
      ]
     },
     "metadata": {
      "needs_background": "light"
     },
     "output_type": "display_data"
    }
   ],
   "source": [
    "# Lets see the distribution on one number\n",
    "plt.hist(x_train[0])"
   ]
  },
  {
   "cell_type": "markdown",
   "id": "ffa10a90",
   "metadata": {},
   "source": [
    "# Prepare input & output data"
   ]
  },
  {
   "cell_type": "markdown",
   "id": "5ad8a656",
   "metadata": {},
   "source": [
    "- Neural networks don't process raw data, like text files, encoded JPEG image files, or CSV files. They process vectorized & standardized representations."
   ]
  },
  {
   "cell_type": "markdown",
   "id": "8ed08422",
   "metadata": {},
   "source": [
    "## Input"
   ]
  },
  {
   "cell_type": "markdown",
   "id": "5549a066",
   "metadata": {},
   "source": [
    "- In general, input values to a neural network should be close to zero, we expect either data with zero-mean and unit-variance, or data in the 0-1 range."
   ]
  },
  {
   "cell_type": "code",
   "execution_count": 10,
   "id": "719a4047",
   "metadata": {},
   "outputs": [],
   "source": [
    "# We know that our numbers are between 0-255, so we will divide everything by 255 to get them to be between 0-1\n",
    "x_train = x_train.astype('float32') / 255\n",
    "x_test = x_test.astype('float32') / 255"
   ]
  },
  {
   "cell_type": "markdown",
   "id": "9c5f2ed5",
   "metadata": {},
   "source": [
    "- We must reshape the training and validation images, to explicitly indicate to Keras that each image will have a single information channel (because they are grayscale images)."
   ]
  },
  {
   "cell_type": "code",
   "execution_count": 11,
   "id": "bf65b3b4",
   "metadata": {},
   "outputs": [],
   "source": [
    "x_train = x_train.reshape(60000, 28,28,1)\n",
    "x_test = x_test.reshape(10000, 28,28,1)"
   ]
  },
  {
   "cell_type": "markdown",
   "id": "8b6cb09e",
   "metadata": {},
   "source": [
    "## Output"
   ]
  },
  {
   "cell_type": "markdown",
   "id": "bad1a105",
   "metadata": {},
   "source": [
    "- Our labels for each input data are numbers between 0-9 that indicate which digit represents the image. We will represent this label with a vector of 10 positions, where the position corresponding to the digit that represents the image contains a 1 and the remaining positions of the vector contain the value 0.\n",
    "\n",
    "- We will use one-hot encoding which consists of transforming the labels into a vector of as many zeros as the number of different labels, and containing the value of 1 in the index that corresponds to the value of the label. With Keras we can use the function to_categorical to perform this transformation.\n",
    "\n",
    "- After doing that, the values from the output neurons, which are probabilities ranging from 0 to 1, can be compared directly to the values in the target vector. In this way, for a given number, say 0, the neural network will be trained to output a high probability from the first output neuron, and a low probability from the following neurons.\n",
    "\n"
   ]
  },
  {
   "cell_type": "code",
   "execution_count": 12,
   "id": "a7e886ee",
   "metadata": {},
   "outputs": [],
   "source": [
    "# num_classes is the number of possibilities of the output\n",
    "y_train = to_categorical(y_train, num_classes=10)\n",
    "y_test = to_categorical(y_test, num_classes=10)"
   ]
  },
  {
   "cell_type": "markdown",
   "id": "16b0e074",
   "metadata": {},
   "source": [
    "# Creating a neural network model"
   ]
  },
  {
   "cell_type": "markdown",
   "id": "96880f16",
   "metadata": {},
   "source": [
    "## Defining the model"
   ]
  },
  {
   "cell_type": "markdown",
   "id": "c6da1314",
   "metadata": {},
   "source": [
    "- The model in Keras is considered as a sequence of layers and each of them gradually “distills” the input data to obtain the desired output."
   ]
  },
  {
   "cell_type": "code",
   "execution_count": 13,
   "id": "7749c9a2",
   "metadata": {},
   "outputs": [],
   "source": [
    "# The Sequential class of the Keras library is a wrapper for the sequential neural network model that Keras offers\n",
    "model = Sequential()"
   ]
  },
  {
   "cell_type": "markdown",
   "id": "153f8a04",
   "metadata": {},
   "source": [
    "### Convolutional layers"
   ]
  },
  {
   "cell_type": "markdown",
   "id": "cbcf793b",
   "metadata": {},
   "source": [
    "- Convolutional layers apply learned filters to input images in order to create feature maps that summarize the presence of those features in the input.\n",
    "- The number of filters we want to use will depend on the number of features we want to extract and the complexity of the image.\n",
    "- Common choice is to keep the kernel size at 3x3 or 5x5.\n",
    "- Relu is the most used activation method for the hidden layers and image recognition\n",
    "- In our study we do not need to modify the padding or the stride. By default, Keras will use padding equal to 0 and stride equal to 1."
   ]
  },
  {
   "cell_type": "code",
   "execution_count": 14,
   "id": "9b094149",
   "metadata": {},
   "outputs": [],
   "source": [
    "model.add(Conv2D(filters=10, kernel_size=(5,5), activation='relu', input_shape=(28,28,1)))"
   ]
  },
  {
   "cell_type": "markdown",
   "id": "6264962c",
   "metadata": {},
   "source": [
    "- The addition of a pooling layer after the convolutional layer is a common pattern used for ordering layers within a convolutional neural network.\n",
    "- The result of using a pooling layer and creating down sampled or pooled feature maps is a summarized version of the features detected in the input.\n",
    "- The size of the pooling operation or filter is smaller than the size of the feature map it is almost always 2×2 applied with a stride of 2 pixels.\n",
    "- In our study we do not need to modify the padding or the stride. By default, Keras will use padding equal to 0 and stride equal to 2."
   ]
  },
  {
   "cell_type": "code",
   "execution_count": 15,
   "id": "175898fb",
   "metadata": {},
   "outputs": [],
   "source": [
    "model.add(MaxPooling2D(pool_size=(2,2)))"
   ]
  },
  {
   "cell_type": "markdown",
   "id": "b23ef28c",
   "metadata": {},
   "source": [
    "### Dense layers"
   ]
  },
  {
   "cell_type": "markdown",
   "id": "fefbd544",
   "metadata": {},
   "source": [
    "- Dense layers require data input as a 1-dimensional (1D) vector. Keras provides us with the flatten function to perform the conversion."
   ]
  },
  {
   "cell_type": "code",
   "execution_count": 16,
   "id": "0ba21444",
   "metadata": {},
   "outputs": [],
   "source": [
    "model.add(Flatten())"
   ]
  },
  {
   "cell_type": "markdown",
   "id": "5a58aa7c",
   "metadata": {},
   "source": [
    "- In a dense layer, all neurons in each layer are connected to all neurons in the next layer.\n",
    "- We will use a single dense hidden layer since it is capable of performing most of the calculations we need.\n",
    "- One of the unwritten rules about neurons says that the number of hidden neurons should be between the size of the input layer and the size of the output layer.\n",
    "- The second dense layer is the one we will use as the output layer. The neurons of this layer must always be equal to the different output options.\n",
    "- Relu is the most used activation method for the hidden layers and image recognition and softmax is the most used for the output layer."
   ]
  },
  {
   "cell_type": "code",
   "execution_count": 17,
   "id": "8b9af1b8",
   "metadata": {},
   "outputs": [],
   "source": [
    "model.add(Dense(100,activation='relu'))\n",
    "model.add(Dense(10, activation='softmax'))"
   ]
  },
  {
   "cell_type": "markdown",
   "id": "c7a929e6",
   "metadata": {},
   "source": [
    "- The function summary is a very useful method that Keras provides to check the architecture of our model."
   ]
  },
  {
   "cell_type": "code",
   "execution_count": 18,
   "id": "1a48a7a9",
   "metadata": {},
   "outputs": [
    {
     "name": "stdout",
     "output_type": "stream",
     "text": [
      "Model: \"sequential\"\n",
      "_________________________________________________________________\n",
      "Layer (type)                 Output Shape              Param #   \n",
      "=================================================================\n",
      "conv2d (Conv2D)              (None, 24, 24, 10)        260       \n",
      "_________________________________________________________________\n",
      "max_pooling2d (MaxPooling2D) (None, 12, 12, 10)        0         \n",
      "_________________________________________________________________\n",
      "flatten (Flatten)            (None, 1440)              0         \n",
      "_________________________________________________________________\n",
      "dense (Dense)                (None, 100)               144100    \n",
      "_________________________________________________________________\n",
      "dense_1 (Dense)              (None, 10)                1010      \n",
      "=================================================================\n",
      "Total params: 145,370\n",
      "Trainable params: 145,370\n",
      "Non-trainable params: 0\n",
      "_________________________________________________________________\n"
     ]
    }
   ],
   "source": [
    "model.summary()"
   ]
  },
  {
   "cell_type": "markdown",
   "id": "1bcfa92d",
   "metadata": {},
   "source": [
    "## Compiling the model"
   ]
  },
  {
   "cell_type": "markdown",
   "id": "85f78d86",
   "metadata": {},
   "source": [
    "- Once we have our model defined, we can configure how its learning process will be with the function compile\n",
    "- The first of these arguments is the loss function that we will use to evaluate the degree of error between calculated outputs and the desired outputs of the training data.\n",
    "-  Later we specify an optimizer that allows the neural network to calculate the weights of the parameters from the input data and the defined loss function.\n",
    "- Finally we must indicate the metric that we will use to monitor the learning process (and test) of our neural network.\n",
    "- Categorical_crossentropy, adam and accuracy, are the most used methods for image recognition."
   ]
  },
  {
   "cell_type": "code",
   "execution_count": 19,
   "id": "9042b8eb",
   "metadata": {},
   "outputs": [],
   "source": [
    "model.compile(loss='categorical_crossentropy', optimizer='adam', metrics = ['accuracy'])"
   ]
  },
  {
   "cell_type": "markdown",
   "id": "938d08a0",
   "metadata": {},
   "source": [
    "## Training the model"
   ]
  },
  {
   "cell_type": "markdown",
   "id": "0b086ba6",
   "metadata": {},
   "source": [
    "- Once our model has been defined and the learning method configured, it is ready to be trained.\n",
    "- In the first two arguments we have indicated the data with which we will train the model.\n",
    "- The batch_size argument indicates the number of data that we will use for each update of the model parameters and with epochs we are indicating the number of times we will use all the data in the learning process.\n",
    "- verbose = 1 allows us to see the process\n",
    "- In each iteration of this algorithm, it takes training data from x_train, passes them through the neural network, compares the obtained result with the expected one (indicated in y_train) and calculates the loss to guide the adjustment process of the model parameters, which consists to applying the optimizer in the compile() method to calculate a new value of each one of the model parameters (weights and biases)in each iteration in such a way that the loss is reduced.\n",
    "- Keras provides the capability to register callbacks when training a deep learning model. One of the default callbacks that is registered when training all deep learning models is the History callback. It records training metrics for each epoch."
   ]
  },
  {
   "cell_type": "code",
   "execution_count": 20,
   "id": "c5c4004a",
   "metadata": {},
   "outputs": [
    {
     "name": "stdout",
     "output_type": "stream",
     "text": [
      "Epoch 1/10\n",
      "600/600 [==============================] - 14s 24ms/step - loss: 0.2385 - accuracy: 0.9326 - val_loss: 0.0865 - val_accuracy: 0.9736\n",
      "Epoch 2/10\n",
      "600/600 [==============================] - 14s 23ms/step - loss: 0.0751 - accuracy: 0.9776 - val_loss: 0.0571 - val_accuracy: 0.9820\n",
      "Epoch 3/10\n",
      "600/600 [==============================] - 14s 23ms/step - loss: 0.0545 - accuracy: 0.9840 - val_loss: 0.0637 - val_accuracy: 0.9781\n",
      "Epoch 4/10\n",
      "600/600 [==============================] - 14s 23ms/step - loss: 0.0420 - accuracy: 0.9869 - val_loss: 0.0429 - val_accuracy: 0.9860\n",
      "Epoch 5/10\n",
      "600/600 [==============================] - 14s 23ms/step - loss: 0.0332 - accuracy: 0.9895 - val_loss: 0.0449 - val_accuracy: 0.9859\n",
      "Epoch 6/10\n",
      "600/600 [==============================] - 14s 24ms/step - loss: 0.0271 - accuracy: 0.9913 - val_loss: 0.0387 - val_accuracy: 0.9872\n",
      "Epoch 7/10\n",
      "600/600 [==============================] - 15s 25ms/step - loss: 0.0217 - accuracy: 0.9935 - val_loss: 0.0403 - val_accuracy: 0.9870\n",
      "Epoch 8/10\n",
      "600/600 [==============================] - 14s 24ms/step - loss: 0.0185 - accuracy: 0.9940 - val_loss: 0.0404 - val_accuracy: 0.9860\n",
      "Epoch 9/10\n",
      "600/600 [==============================] - 14s 24ms/step - loss: 0.0142 - accuracy: 0.9958 - val_loss: 0.0421 - val_accuracy: 0.9870\n",
      "Epoch 10/10\n",
      "600/600 [==============================] - 14s 23ms/step - loss: 0.0108 - accuracy: 0.9969 - val_loss: 0.0379 - val_accuracy: 0.9884\n"
     ]
    }
   ],
   "source": [
    "history = model.fit(x_train, y_train, batch_size=100, epochs=10, verbose=1, validation_data=(x_test,y_test))"
   ]
  },
  {
   "cell_type": "markdown",
   "id": "b8c27bc2",
   "metadata": {},
   "source": [
    "## Evaluating the model"
   ]
  },
  {
   "cell_type": "markdown",
   "id": "023b7775",
   "metadata": {},
   "source": [
    "- Once our model has been trained can be evaluated using the function evaluation.\n",
    "- This method returns two values that indicate how well or badly our model behaves with new data that it has never seen."
   ]
  },
  {
   "cell_type": "code",
   "execution_count": 21,
   "id": "79333cb1",
   "metadata": {},
   "outputs": [
    {
     "name": "stdout",
     "output_type": "stream",
     "text": [
      "313/313 [==============================] - 2s 5ms/step - loss: 0.0379 - accuracy: 0.9884\n"
     ]
    }
   ],
   "source": [
    "test_loss, test_acc = model.evaluate(x_test, y_test)"
   ]
  },
  {
   "cell_type": "code",
   "execution_count": 22,
   "id": "cd7dd47c",
   "metadata": {},
   "outputs": [
    {
     "name": "stdout",
     "output_type": "stream",
     "text": [
      "Accuracy model: 98.84 %\n"
     ]
    }
   ],
   "source": [
    "print('Accuracy model:', round(test_acc*100,2),'%')"
   ]
  },
  {
   "cell_type": "markdown",
   "id": "e0082720",
   "metadata": {},
   "source": [
    "- We have previously saved our training in the history variable. We can now plot the evolution of the accuracy as a function of the training evolution. The accuracy is computed for both the training and the test samples."
   ]
  },
  {
   "cell_type": "code",
   "execution_count": 23,
   "id": "cc9d4257",
   "metadata": {},
   "outputs": [
    {
     "data": {
      "text/plain": [
       "dict_keys(['loss', 'accuracy', 'val_loss', 'val_accuracy'])"
      ]
     },
     "execution_count": 23,
     "metadata": {},
     "output_type": "execute_result"
    }
   ],
   "source": [
    "history.history.keys()"
   ]
  },
  {
   "cell_type": "markdown",
   "id": "a306f212",
   "metadata": {},
   "source": [
    "- We see that the accuracy on the training sample (blue) continuously improves: the network gets better and better at recognizing the digits of this sample, because it's trained to do it.\n",
    "- But the accuracy on the testing sample (orange), which is not used for training, plateaus very early at about 98.5%. Training further will not help.\n",
    "- That's a clear sign of overfitting."
   ]
  },
  {
   "cell_type": "code",
   "execution_count": 24,
   "id": "4780ebb7",
   "metadata": {},
   "outputs": [
    {
     "data": {
      "text/plain": [
       "<Figure size 432x288 with 0 Axes>"
      ]
     },
     "execution_count": 24,
     "metadata": {},
     "output_type": "execute_result"
    },
    {
     "data": {
      "image/png": "[encoded data removed]",
      "text/plain": [
       "<Figure size 432x288 with 1 Axes>"
      ]
     },
     "metadata": {
      "needs_background": "light"
     },
     "output_type": "display_data"
    },
    {
     "data": {
      "text/plain": [
       "<Figure size 432x288 with 0 Axes>"
      ]
     },
     "metadata": {},
     "output_type": "display_data"
    }
   ],
   "source": [
    "acc = history.history['accuracy']\n",
    "test_acc = history.history['val_accuracy']\n",
    "epochs = range(len(acc))\n",
    "plt.plot(epochs, acc)\n",
    "plt.plot(epochs, test_acc)\n",
    "plt.ylim(0.95, 1.0)\n",
    "plt.title('accuracy') \n",
    "plt.figure()"
   ]
  },
  {
   "cell_type": "code",
   "execution_count": 25,
   "id": "86d1d870",
   "metadata": {},
   "outputs": [
    {
     "data": {
      "text/plain": [
       "<Figure size 432x288 with 0 Axes>"
      ]
     },
     "execution_count": 25,
     "metadata": {},
     "output_type": "execute_result"
    },
    {
     "data": {
      "image/png": "[encoded data removed]",
      "text/plain": [
       "<Figure size 432x288 with 1 Axes>"
      ]
     },
     "metadata": {
      "needs_background": "light"
     },
     "output_type": "display_data"
    },
    {
     "data": {
      "text/plain": [
       "<Figure size 432x288 with 0 Axes>"
      ]
     },
     "metadata": {},
     "output_type": "display_data"
    }
   ],
   "source": [
    "# We can also see that the trend in the error function follows the same pattern\n",
    "acc = history.history['loss']\n",
    "test_acc = history.history['val_loss']\n",
    "epochs = range(len(acc))\n",
    "plt.plot(epochs, acc)\n",
    "plt.plot(epochs, test_acc)\n",
    "plt.ylim(0, 0.3)\n",
    "plt.title('loss') \n",
    "plt.figure()"
   ]
  },
  {
   "cell_type": "markdown",
   "id": "4d8a7b24",
   "metadata": {},
   "source": [
    "## Deal with overfit"
   ]
  },
  {
   "cell_type": "markdown",
   "id": "37333548",
   "metadata": {},
   "source": [
    "- To try to deal with the overfit we will add a Dropout layer.\n",
    "- The Dropout layer randomly sets input units to 0 with a frequency of rate at each step during training time, which helps prevent overfitting.\n",
    "- Dropout is often used  after pooling layers (eg MaxPooling2D).\n",
    "- We will create a new model with a Dropout layer and see if it improves the result"
   ]
  },
  {
   "cell_type": "code",
   "execution_count": 26,
   "id": "0f12f1a9",
   "metadata": {},
   "outputs": [
    {
     "name": "stdout",
     "output_type": "stream",
     "text": [
      "Epoch 1/10\n",
      "600/600 [==============================] - 19s 31ms/step - loss: 0.3281 - accuracy: 0.9014 - val_loss: 0.0990 - val_accuracy: 0.9711\n",
      "Epoch 2/10\n",
      "600/600 [==============================] - 17s 29ms/step - loss: 0.1285 - accuracy: 0.9605 - val_loss: 0.0681 - val_accuracy: 0.9781\n",
      "Epoch 3/10\n",
      "600/600 [==============================] - 16s 26ms/step - loss: 0.0959 - accuracy: 0.9702 - val_loss: 0.0528 - val_accuracy: 0.9828\n",
      "Epoch 4/10\n",
      "600/600 [==============================] - 16s 26ms/step - loss: 0.0782 - accuracy: 0.9755 - val_loss: 0.0488 - val_accuracy: 0.9831\n",
      "Epoch 5/10\n",
      "600/600 [==============================] - 16s 26ms/step - loss: 0.0692 - accuracy: 0.9785 - val_loss: 0.0401 - val_accuracy: 0.9872\n",
      "Epoch 6/10\n",
      "600/600 [==============================] - 18s 29ms/step - loss: 0.0616 - accuracy: 0.9808 - val_loss: 0.0361 - val_accuracy: 0.9879\n",
      "Epoch 7/10\n",
      "600/600 [==============================] - 17s 29ms/step - loss: 0.0551 - accuracy: 0.9829 - val_loss: 0.0334 - val_accuracy: 0.9890\n",
      "Epoch 8/10\n",
      "600/600 [==============================] - 17s 28ms/step - loss: 0.0506 - accuracy: 0.9835 - val_loss: 0.0311 - val_accuracy: 0.9897\n",
      "Epoch 9/10\n",
      "600/600 [==============================] - 17s 28ms/step - loss: 0.0472 - accuracy: 0.9853 - val_loss: 0.0302 - val_accuracy: 0.9898\n",
      "Epoch 10/10\n",
      "600/600 [==============================] - 16s 27ms/step - loss: 0.0422 - accuracy: 0.9863 - val_loss: 0.0340 - val_accuracy: 0.9893\n"
     ]
    }
   ],
   "source": [
    "# Definig model model\n",
    "model_drop = Sequential()\n",
    "model_drop.add(Conv2D(filters=10, kernel_size=(5,5), activation='relu', input_shape=(28,28,1)))\n",
    "model_drop.add(MaxPooling2D(pool_size=(2,2)))\n",
    "model_drop.add(Flatten())\n",
    "    # We will make it discard half of the inputs\n",
    "model_drop.add(Dropout(rate=0.5))\n",
    "model_drop.add(Dense(100,activation='relu'))\n",
    "model_drop.add(Dense(10, activation='softmax'))\n",
    "# Compiling the model\n",
    "model_drop.compile(loss='categorical_crossentropy', optimizer='adam', metrics = ['accuracy'])\n",
    "# Training the model\n",
    "history_drop = model_drop.fit(x_train, y_train, batch_size=100, epochs=10, verbose=1, validation_data=(x_test,y_test))\n"
   ]
  },
  {
   "cell_type": "code",
   "execution_count": 27,
   "id": "14f7d3ae",
   "metadata": {},
   "outputs": [
    {
     "data": {
      "text/plain": [
       "<Figure size 432x288 with 0 Axes>"
      ]
     },
     "execution_count": 27,
     "metadata": {},
     "output_type": "execute_result"
    },
    {
     "data": {
      "image/png": "[encoded data removed]",
      "text/plain": [
       "<Figure size 432x288 with 1 Axes>"
      ]
     },
     "metadata": {
      "needs_background": "light"
     },
     "output_type": "display_data"
    },
    {
     "data": {
      "text/plain": [
       "<Figure size 432x288 with 0 Axes>"
      ]
     },
     "metadata": {},
     "output_type": "display_data"
    }
   ],
   "source": [
    "#Results\n",
    "acc = history_drop.history['accuracy']\n",
    "test_acc = history_drop.history['val_accuracy']\n",
    "epochs = range(len(acc))\n",
    "plt.plot(epochs, acc)\n",
    "plt.plot(epochs, test_acc)\n",
    "plt.ylim(0.95, 1.0)\n",
    "plt.title('accuracy') \n",
    "plt.figure()"
   ]
  },
  {
   "cell_type": "code",
   "execution_count": 28,
   "id": "7fe3c385",
   "metadata": {},
   "outputs": [
    {
     "data": {
      "text/plain": [
       "<Figure size 432x288 with 0 Axes>"
      ]
     },
     "execution_count": 28,
     "metadata": {},
     "output_type": "execute_result"
    },
    {
     "data": {
      "image/png": "[encoded data removed]",
      "text/plain": [
       "<Figure size 432x288 with 1 Axes>"
      ]
     },
     "metadata": {
      "needs_background": "light"
     },
     "output_type": "display_data"
    },
    {
     "data": {
      "text/plain": [
       "<Figure size 432x288 with 0 Axes>"
      ]
     },
     "metadata": {},
     "output_type": "display_data"
    }
   ],
   "source": [
    "acc = history_drop.history['loss']\n",
    "test_acc = history_drop.history['val_loss']\n",
    "epochs = range(len(acc))\n",
    "plt.plot(epochs, acc)\n",
    "plt.plot(epochs, test_acc)\n",
    "plt.ylim(0, 0.3)\n",
    "plt.title('loss') \n",
    "plt.figure()"
   ]
  },
  {
   "cell_type": "code",
   "execution_count": 29,
   "id": "bf6b8ba0",
   "metadata": {},
   "outputs": [
    {
     "name": "stdout",
     "output_type": "stream",
     "text": [
      "Model 1 ->  Accuracy train : 99.69 %     Accuracy validation: 98.84 %\n",
      "Model 2 ->  Accuracy train : 98.63 %    Accuracy validation: 98.93 %\n"
     ]
    }
   ],
   "source": [
    "# Only show the last epoch of each measurement\n",
    "print('Model 1 ->  Accuracy train :', round(history.history['accuracy'][9]*100,2),'%',\n",
    "     '    Accuracy validation:', round(history.history['val_accuracy'][9]*100,2),'%')\n",
    "print('Model 2 ->  Accuracy train :', round(history_drop.history['accuracy'][9]*100,2),'%',\n",
    "     '   Accuracy validation:', round(history_drop.history['val_accuracy'][9]*100,2),'%')"
   ]
  },
  {
   "cell_type": "code",
   "execution_count": 30,
   "id": "064f80b1",
   "metadata": {},
   "outputs": [
    {
     "name": "stdout",
     "output_type": "stream",
     "text": [
      "Model 1 ->  Loss train : 1.08 %     Loss validation: 3.79 %\n",
      "Model 2 ->  Loss train : 4.22 %    Loss validation: 3.4 %\n"
     ]
    }
   ],
   "source": [
    "print('Model 1 ->  Loss train :', round(history.history['loss'][9]*100,2),'%',\n",
    "     '    Loss validation:', round(history.history['val_loss'][9]*100,2),'%')\n",
    "print('Model 2 ->  Loss train :', round(history_drop.history['loss'][9]*100,2),'%',\n",
    "     '   Loss validation:', round(history_drop.history['val_loss'][9]*100,2),'%')"
   ]
  },
  {
   "cell_type": "markdown",
   "id": "a391eece",
   "metadata": {},
   "source": [
    "- If we look at the results we can see how we have worsened in the training measurements, but we have improved in validation measurements, which is something positive for us. Now it is better with the new inputs that arrive."
   ]
  },
  {
   "cell_type": "markdown",
   "id": "fb3d2900",
   "metadata": {},
   "source": [
    "## Experimenting"
   ]
  },
  {
   "cell_type": "markdown",
   "id": "ad138d28",
   "metadata": {},
   "source": [
    "- The hyperparameters are the parameters affecting the network configuration, such as the number of layers, the number of neurons per layer, the number of features extracted by the convolutional layers, etc.\n",
    "- We can try and improve the performance by tuning the hyperparameters.\n"
   ]
  },
  {
   "cell_type": "code",
   "execution_count": 31,
   "id": "ac464d6c",
   "metadata": {},
   "outputs": [
    {
     "name": "stdout",
     "output_type": "stream",
     "text": [
      "Epoch 1/10\n",
      "600/600 [==============================] - 26s 44ms/step - loss: 0.2688 - accuracy: 0.9185 - val_loss: 0.0569 - val_accuracy: 0.9823\n",
      "Epoch 2/10\n",
      "600/600 [==============================] - 28s 46ms/step - loss: 0.0843 - accuracy: 0.9744 - val_loss: 0.0387 - val_accuracy: 0.9888\n",
      "Epoch 3/10\n",
      "600/600 [==============================] - 28s 46ms/step - loss: 0.0625 - accuracy: 0.9804 - val_loss: 0.0317 - val_accuracy: 0.9887\n",
      "Epoch 4/10\n",
      "600/600 [==============================] - 28s 46ms/step - loss: 0.0519 - accuracy: 0.9841 - val_loss: 0.0245 - val_accuracy: 0.9915\n",
      "Epoch 5/10\n",
      "600/600 [==============================] - 26s 44ms/step - loss: 0.0448 - accuracy: 0.9859 - val_loss: 0.0267 - val_accuracy: 0.9906\n",
      "Epoch 6/10\n",
      "600/600 [==============================] - 25s 42ms/step - loss: 0.0412 - accuracy: 0.9872 - val_loss: 0.0234 - val_accuracy: 0.9923\n",
      "Epoch 7/10\n",
      "600/600 [==============================] - 26s 43ms/step - loss: 0.0374 - accuracy: 0.9881 - val_loss: 0.0249 - val_accuracy: 0.9922\n",
      "Epoch 8/10\n",
      "600/600 [==============================] - 26s 43ms/step - loss: 0.0340 - accuracy: 0.9888 - val_loss: 0.0211 - val_accuracy: 0.9929\n",
      "Epoch 9/10\n",
      "600/600 [==============================] - 26s 43ms/step - loss: 0.0302 - accuracy: 0.9904 - val_loss: 0.0204 - val_accuracy: 0.9934\n",
      "Epoch 10/10\n",
      "600/600 [==============================] - 26s 43ms/step - loss: 0.0288 - accuracy: 0.9906 - val_loss: 0.0184 - val_accuracy: 0.9940\n"
     ]
    }
   ],
   "source": [
    "# Definig model model\n",
    "model_exp = Sequential()\n",
    "model_exp.add(Conv2D(filters=16, kernel_size=(5,5), activation='relu', input_shape=(28,28,1)))\n",
    "model_exp.add(MaxPooling2D(pool_size=(2,2)))\n",
    "model_exp.add(Conv2D(filters=32, kernel_size=(5,5), activation='relu'))\n",
    "model_exp.add(MaxPooling2D(pool_size=(2,2)))\n",
    "model_exp.add(Flatten())\n",
    "    # We will make it discard half of the inputs\n",
    "model_exp.add(Dropout(rate=0.4))\n",
    "model_exp.add(Dense(100,activation='relu'))\n",
    "model_exp.add(Dense(10, activation='softmax'))\n",
    "# Compiling the model\n",
    "model_exp.compile(loss='categorical_crossentropy', optimizer='adam', metrics = ['accuracy'])\n",
    "# Training the model\n",
    "history_exp = model_exp.fit(x_train, y_train, batch_size=100, epochs=10, verbose=1, validation_data=(x_test,y_test))\n"
   ]
  },
  {
   "cell_type": "code",
   "execution_count": 32,
   "id": "b15cb3e2",
   "metadata": {},
   "outputs": [
    {
     "data": {
      "text/plain": [
       "<Figure size 432x288 with 0 Axes>"
      ]
     },
     "execution_count": 32,
     "metadata": {},
     "output_type": "execute_result"
    },
    {
     "data": {
      "image/png": "[encoded data removed]",
      "text/plain": [
       "<Figure size 432x288 with 1 Axes>"
      ]
     },
     "metadata": {
      "needs_background": "light"
     },
     "output_type": "display_data"
    },
    {
     "data": {
      "text/plain": [
       "<Figure size 432x288 with 0 Axes>"
      ]
     },
     "metadata": {},
     "output_type": "display_data"
    }
   ],
   "source": [
    "#Results\n",
    "acc = history_exp.history['accuracy']\n",
    "test_acc = history_exp.history['val_accuracy']\n",
    "epochs = range(len(acc))\n",
    "plt.plot(epochs, acc)\n",
    "plt.plot(epochs, test_acc)\n",
    "plt.ylim(0.95, 1.0)\n",
    "plt.title('accuracy') \n",
    "plt.figure()"
   ]
  },
  {
   "cell_type": "code",
   "execution_count": 33,
   "id": "8366f59d",
   "metadata": {},
   "outputs": [
    {
     "data": {
      "text/plain": [
       "<Figure size 432x288 with 0 Axes>"
      ]
     },
     "execution_count": 33,
     "metadata": {},
     "output_type": "execute_result"
    },
    {
     "data": {
      "image/png": "[encoded data removed]",
      "text/plain": [
       "<Figure size 432x288 with 1 Axes>"
      ]
     },
     "metadata": {
      "needs_background": "light"
     },
     "output_type": "display_data"
    },
    {
     "data": {
      "text/plain": [
       "<Figure size 432x288 with 0 Axes>"
      ]
     },
     "metadata": {},
     "output_type": "display_data"
    }
   ],
   "source": [
    "acc = history_exp.history['loss']\n",
    "test_acc = history_exp.history['val_loss']\n",
    "epochs = range(len(acc))\n",
    "plt.plot(epochs, acc)\n",
    "plt.plot(epochs, test_acc)\n",
    "plt.ylim(0, 0.3)\n",
    "plt.title('loss') \n",
    "plt.figure()"
   ]
  },
  {
   "cell_type": "code",
   "execution_count": 34,
   "id": "160ae696",
   "metadata": {},
   "outputs": [
    {
     "name": "stdout",
     "output_type": "stream",
     "text": [
      "Model 1 ->  Accuracy train : 99.69 %     Accuracy validation: 98.84 %\n",
      "Model 2 ->  Accuracy train : 98.63 %    Accuracy validation: 98.93 %\n",
      "Model 3 ->  Accuracy train : 99.06 %    Accuracy validation: 99.4 %\n"
     ]
    }
   ],
   "source": [
    "# Only show the last epoch of each measurement\n",
    "print('Model 1 ->  Accuracy train :', round(history.history['accuracy'][9]*100,2),'%',\n",
    "     '    Accuracy validation:', round(history.history['val_accuracy'][9]*100,2),'%')\n",
    "print('Model 2 ->  Accuracy train :', round(history_drop.history['accuracy'][9]*100,2),'%',\n",
    "     '   Accuracy validation:', round(history_drop.history['val_accuracy'][9]*100,2),'%')\n",
    "print('Model 3 ->  Accuracy train :', round(history_exp.history['accuracy'][9]*100,2),'%',\n",
    "     '   Accuracy validation:', round(history_exp.history['val_accuracy'][9]*100,2),'%')"
   ]
  },
  {
   "cell_type": "code",
   "execution_count": 35,
   "id": "b720d27d",
   "metadata": {},
   "outputs": [
    {
     "name": "stdout",
     "output_type": "stream",
     "text": [
      "Model 1 ->  Loss train : 1.08 %    Loss validation: 3.79 %\n",
      "Model 2 ->  Loss train : 4.22 %     Loss validation: 3.4 %\n",
      "Model 3 ->  Loss train : 2.88 %    Loss validation: 1.84 %\n"
     ]
    }
   ],
   "source": [
    "print('Model 1 ->  Loss train :', round(history.history['loss'][9]*100,2),'%',\n",
    "     '   Loss validation:', round(history.history['val_loss'][9]*100,2),'%')\n",
    "print('Model 2 ->  Loss train :', round(history_drop.history['loss'][9]*100,2),'%',\n",
    "     '    Loss validation:', round(history_drop.history['val_loss'][9]*100,2),'%')\n",
    "print('Model 3 ->  Loss train :', round(history_exp.history['loss'][9]*100,2),'%',\n",
    "     '   Loss validation:', round(history_exp.history['val_loss'][9]*100,2),'%')"
   ]
  },
  {
   "cell_type": "markdown",
   "id": "71ede6d1",
   "metadata": {},
   "source": [
    "- After a long time trying different combinations we get the best results with 4 convolutional layers (2 to extract features and 2 to reduce the data) and 2 dense layers (1 for information processing and 1 for the output layer)."
   ]
  },
  {
   "cell_type": "code",
   "execution_count": 36,
   "id": "d2080c65",
   "metadata": {},
   "outputs": [
    {
     "name": "stdout",
     "output_type": "stream",
     "text": [
      "                     \u001b[4mBest Model\u001b[0m \n",
      "\n",
      "Accuracy train : 99.06 %    Accuracy validation: 99.4 %\n",
      "Loss train : 2.88 %         Loss validation: 1.84 %\n"
     ]
    }
   ],
   "source": [
    "print('                     \\033[4mBest Model\\033[0m \\n')\n",
    "print('Accuracy train :', round(history_exp.history['accuracy'][9]*100,2),'%',\n",
    "     '   Accuracy validation:', round(history_exp.history['val_accuracy'][9]*100,2),'%')\n",
    "print('Loss train :', round(history_exp.history['loss'][9]*100,2),'%',\n",
    "     '        Loss validation:', round(history_exp.history['val_loss'][9]*100,2),'%')"
   ]
  },
  {
   "cell_type": "markdown",
   "id": "9f6dbee9",
   "metadata": {},
   "source": [
    "## Testing the model"
   ]
  },
  {
   "cell_type": "markdown",
   "id": "6b4fc73c",
   "metadata": {},
   "source": [
    "- Finally we will test our model. Our goal is to predict which digit represents each image. Keras provides us with the predict function.\n",
    "- The predict() method return a vector with the predictions for the whole dataset elements. We can know which class gives the most probability of belonging by means of the argmax function of Numpy, which returns the index of the position that contains the highest value of the vector."
   ]
  },
  {
   "cell_type": "code",
   "execution_count": 37,
   "id": "5a97f828",
   "metadata": {},
   "outputs": [],
   "source": [
    "pred = model_exp.predict(x_test)"
   ]
  },
  {
   "cell_type": "code",
   "execution_count": 38,
   "id": "97ef837c",
   "metadata": {},
   "outputs": [
    {
     "data": {
      "text/plain": [
       "(-0.5, 27.5, 27.5, -0.5)"
      ]
     },
     "execution_count": 38,
     "metadata": {},
     "output_type": "execute_result"
    },
    {
     "data": {
      "image/png": "[encoded data removed]",
      "text/plain": [
       "<Figure size 432x288 with 1 Axes>"
      ]
     },
     "metadata": {
      "needs_background": "light"
     },
     "output_type": "display_data"
    }
   ],
   "source": [
    "# Lets do some predictions\n",
    "plt.imshow(x_test[0])\n",
    "plt.title(f'True Value: {np.argmax(y_test[0])} - Prediction: {np.argmax(pred[0])}')\n",
    "plt.axis('off')"
   ]
  },
  {
   "cell_type": "code",
   "execution_count": 39,
   "id": "da6ec16d",
   "metadata": {},
   "outputs": [
    {
     "data": {
      "text/plain": [
       "(-0.5, 27.5, 27.5, -0.5)"
      ]
     },
     "execution_count": 39,
     "metadata": {},
     "output_type": "execute_result"
    },
    {
     "data": {
      "image/png": "[encoded data removed]",
      "text/plain": [
       "<Figure size 432x288 with 1 Axes>"
      ]
     },
     "metadata": {
      "needs_background": "light"
     },
     "output_type": "display_data"
    }
   ],
   "source": [
    "#Lets do some predictions\n",
    "plt.imshow(x_test[10])\n",
    "plt.title(f'True Value: {np.argmax(y_test[10])} - Prediction: {np.argmax(pred[10])}')\n",
    "plt.axis('off')"
   ]
  },
  {
   "cell_type": "code",
   "execution_count": 40,
   "id": "4c51d60f",
   "metadata": {},
   "outputs": [
    {
     "data": {
      "text/plain": [
       "(-0.5, 27.5, 27.5, -0.5)"
      ]
     },
     "execution_count": 40,
     "metadata": {},
     "output_type": "execute_result"
    },
    {
     "data": {
      "image/png": "[encoded data removed]",
      "text/plain": [
       "<Figure size 432x288 with 1 Axes>"
      ]
     },
     "metadata": {
      "needs_background": "light"
     },
     "output_type": "display_data"
    }
   ],
   "source": [
    "#Lets do some predictions\n",
    "plt.imshow(x_test[100])\n",
    "plt.title(f'True Value: {np.argmax(y_test[100])} - Prediction: {np.argmax(pred[100])}')\n",
    "plt.axis('off')"
   ]
  },
  {
   "cell_type": "code",
   "execution_count": 41,
   "id": "798f7e9b",
   "metadata": {},
   "outputs": [
    {
     "data": {
      "text/plain": [
       "(-0.5, 27.5, 27.5, -0.5)"
      ]
     },
     "execution_count": 41,
     "metadata": {},
     "output_type": "execute_result"
    },
    {
     "data": {
      "image/png": "[encoded data removed]",
      "text/plain": [
       "<Figure size 432x288 with 1 Axes>"
      ]
     },
     "metadata": {
      "needs_background": "light"
     },
     "output_type": "display_data"
    }
   ],
   "source": [
    "#Lets do some predictions\n",
    "plt.imshow(x_test[1000])\n",
    "plt.title(f'True Value: {np.argmax(y_test[1000])} - Prediction: {np.argmax(pred[1000])}')\n",
    "plt.axis('off')"
   ]
  },
  {
   "cell_type": "code",
   "execution_count": 42,
   "id": "317e657f",
   "metadata": {},
   "outputs": [
    {
     "data": {
      "text/plain": [
       "(-0.5, 27.5, 27.5, -0.5)"
      ]
     },
     "execution_count": 42,
     "metadata": {},
     "output_type": "execute_result"
    },
    {
     "data": {
      "image/png": "[encoded data removed]",
      "text/plain": [
       "<Figure size 432x288 with 1 Axes>"
      ]
     },
     "metadata": {
      "needs_background": "light"
     },
     "output_type": "display_data"
    }
   ],
   "source": [
    "#Lets do some predictions\n",
    "plt.imshow(x_test[9999])\n",
    "plt.title(f'True Value: {np.argmax(y_test[9999])} - Prediction: {np.argmax(pred[9999])}')\n",
    "plt.axis('off')"
   ]
  },
  {
   "cell_type": "code",
   "execution_count": 43,
   "id": "5d354916",
   "metadata": {},
   "outputs": [],
   "source": [
    "# Lets see some wrong predictions\n",
    "pred_digits = np.argmax(pred, axis=1)\n",
    "y_digits = np.argmax(y_test, axis=1)"
   ]
  },
  {
   "cell_type": "code",
   "execution_count": 51,
   "id": "f0938a73",
   "metadata": {},
   "outputs": [
    {
     "name": "stdout",
     "output_type": "stream",
     "text": [
      "Number of misclassified digits: 60\n"
     ]
    }
   ],
   "source": [
    "mispred_img = x_test[pred_digits!=y_digits]\n",
    "mispred_true = y_digits[pred_digits!=y_digits]\n",
    "mispred_pred = pred_digits[pred_digits!=y_digits]\n",
    "print ('Number of misclassified digits:', mispred_img.shape[0])"
   ]
  },
  {
   "cell_type": "code",
   "execution_count": 45,
   "id": "469fb5b7",
   "metadata": {},
   "outputs": [
    {
     "data": {
      "text/plain": [
       "(-0.5, 27.5, 27.5, -0.5)"
      ]
     },
     "execution_count": 45,
     "metadata": {},
     "output_type": "execute_result"
    },
    {
     "data": {
      "image/png": "[encoded data removed]",
      "text/plain": [
       "<Figure size 432x288 with 1 Axes>"
      ]
     },
     "metadata": {
      "needs_background": "light"
     },
     "output_type": "display_data"
    }
   ],
   "source": [
    "plt.imshow(mispred_img[0])\n",
    "plt.title(f'True Value: {mispred_true[0]} - Prediction: {mispred_pred[0]}')\n",
    "plt.axis('off')"
   ]
  },
  {
   "cell_type": "code",
   "execution_count": 46,
   "id": "d3652767",
   "metadata": {},
   "outputs": [
    {
     "data": {
      "text/plain": [
       "(-0.5, 27.5, 27.5, -0.5)"
      ]
     },
     "execution_count": 46,
     "metadata": {},
     "output_type": "execute_result"
    },
    {
     "data": {
      "image/png": "[encoded data removed]",
      "text/plain": [
       "<Figure size 432x288 with 1 Axes>"
      ]
     },
     "metadata": {
      "needs_background": "light"
     },
     "output_type": "display_data"
    }
   ],
   "source": [
    "plt.imshow(mispred_img[1])\n",
    "plt.title(f'True Value: {mispred_true[1]} - Prediction: {mispred_pred[1]}')\n",
    "plt.axis('off')"
   ]
  },
  {
   "cell_type": "code",
   "execution_count": 47,
   "id": "fd4df25f",
   "metadata": {},
   "outputs": [
    {
     "data": {
      "text/plain": [
       "(-0.5, 27.5, 27.5, -0.5)"
      ]
     },
     "execution_count": 47,
     "metadata": {},
     "output_type": "execute_result"
    },
    {
     "data": {
      "image/png": "[encoded data removed]",
      "text/plain": [
       "<Figure size 432x288 with 1 Axes>"
      ]
     },
     "metadata": {
      "needs_background": "light"
     },
     "output_type": "display_data"
    }
   ],
   "source": [
    "plt.imshow(mispred_img[2])\n",
    "plt.title(f'True Value: {mispred_true[2]} - Prediction: {mispred_pred[2]}')\n",
    "plt.axis('off')"
   ]
  },
  {
   "cell_type": "code",
   "execution_count": 48,
   "id": "c5060c19",
   "metadata": {},
   "outputs": [
    {
     "data": {
      "text/plain": [
       "(-0.5, 27.5, 27.5, -0.5)"
      ]
     },
     "execution_count": 48,
     "metadata": {},
     "output_type": "execute_result"
    },
    {
     "data": {
      "image/png": "[encoded data removed]",
      "text/plain": [
       "<Figure size 432x288 with 1 Axes>"
      ]
     },
     "metadata": {
      "needs_background": "light"
     },
     "output_type": "display_data"
    }
   ],
   "source": [
    "plt.imshow(mispred_img[3])\n",
    "plt.title(f'True Value: {mispred_true[3]} - Prediction: {mispred_pred[3]}')\n",
    "plt.axis('off')"
   ]
  },
  {
   "cell_type": "code",
   "execution_count": 49,
   "id": "67e72bd7",
   "metadata": {},
   "outputs": [
    {
     "data": {
      "text/plain": [
       "(-0.5, 27.5, 27.5, -0.5)"
      ]
     },
     "execution_count": 49,
     "metadata": {},
     "output_type": "execute_result"
    },
    {
     "data": {
      "image/png": "[encoded data removed]",
      "text/plain": [
       "<Figure size 432x288 with 1 Axes>"
      ]
     },
     "metadata": {
      "needs_background": "light"
     },
     "output_type": "display_data"
    }
   ],
   "source": [
    "plt.imshow(mispred_img[4])\n",
    "plt.title(f'True Value: {mispred_true[4]} - Prediction: {mispred_pred[4]}')\n",
    "plt.axis('off')"
   ]
  },
  {
   "cell_type": "code",
   "execution_count": null,
   "id": "aab4ed88",
   "metadata": {},
   "outputs": [],
   "source": []
  }
 ],
 "metadata": {
  "kernelspec": {
   "display_name": "Python 3 (ipykernel)",
   "language": "python",
   "name": "python3"
  },
  "language_info": {
   "codemirror_mode": {
    "name": "ipython",
    "version": 3
   },
   "file_extension": ".py",
   "mimetype": "text/x-python",
   "name": "python",
   "nbconvert_exporter": "python",
   "pygments_lexer": "ipython3",
   "version": "3.8.12"
  },
  "toc": {
   "base_numbering": 1,
   "nav_menu": {},
   "number_sections": true,
   "sideBar": true,
   "skip_h1_title": false,
   "title_cell": "Table of Contents",
   "title_sidebar": "Contents",
   "toc_cell": false,
   "toc_position": {},
   "toc_section_display": true,
   "toc_window_display": false
  },
  "varInspector": {
   "cols": {
    "lenName": 16,
    "lenType": 16,
    "lenVar": 40
   },
   "kernels_config": {
    "python": {
     "delete_cmd_postfix": "",
     "delete_cmd_prefix": "del ",
     "library": "var_list.py",
     "varRefreshCmd": "print(var_dic_list())"
    },
    "r": {
     "delete_cmd_postfix": ") ",
     "delete_cmd_prefix": "rm(",
     "library": "var_list.r",
     "varRefreshCmd": "cat(var_dic_list()) "
    }
   },
   "types_to_exclude": [
    "module",
    "function",
    "builtin_function_or_method",
    "instance",
    "_Feature"
   ],
   "window_display": false
  }
 },
 "nbformat": 4,
 "nbformat_minor": 5
}
